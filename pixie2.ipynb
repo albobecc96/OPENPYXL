{
 "cells": [
  {
   "cell_type": "code",
   "execution_count": 109,
   "metadata": {},
   "outputs": [],
   "source": [
    "import openpyxl\n",
    "from openpyxl import Workbook, load_workbook "
   ]
  },
  {
   "cell_type": "code",
   "execution_count": 110,
   "metadata": {},
   "outputs": [],
   "source": [
    "#Create a brand new workbook\n",
    "wb = Workbook()\n",
    "ws =wb.active #it gives the default sheet \n",
    "#whenever you create a workbook, there is always one"
   ]
  },
  {
   "cell_type": "code",
   "execution_count": 111,
   "metadata": {},
   "outputs": [],
   "source": [
    "ws.append(['Tim', 'is', 'cool', '!']) #it quickly adds rows of data\n",
    "wb.save('Tim.xlsx')"
   ]
  },
  {
   "cell_type": "code",
   "execution_count": 112,
   "metadata": {},
   "outputs": [],
   "source": [
    "ws.append(['Tim', 'is', 'cool', '!']) #new ROW adding\n",
    "ws.append(['Tim', 'is', 'cool', '!'])"
   ]
  },
  {
   "cell_type": "code",
   "execution_count": 113,
   "metadata": {},
   "outputs": [],
   "source": [
    "ws.append(['End'])"
   ]
  },
  {
   "cell_type": "code",
   "execution_count": 114,
   "metadata": {},
   "outputs": [],
   "source": [
    "wb.save('Tim.xlsx')"
   ]
  },
  {
   "cell_type": "code",
   "execution_count": 115,
   "metadata": {},
   "outputs": [],
   "source": [
    "from openpyxl.utils import get_column_letter"
   ]
  },
  {
   "cell_type": "code",
   "execution_count": 116,
   "metadata": {},
   "outputs": [
    {
     "name": "stdout",
     "output_type": "stream",
     "text": [
      "Tim\n",
      "is\n",
      "cool\n",
      "!\n",
      "Tim\n",
      "is\n",
      "cool\n",
      "!\n",
      "Tim\n",
      "is\n",
      "cool\n",
      "!\n",
      "End\n",
      "None\n",
      "None\n",
      "None\n",
      "None\n",
      "None\n",
      "None\n",
      "None\n",
      "None\n",
      "None\n",
      "None\n",
      "None\n",
      "None\n",
      "None\n",
      "None\n",
      "None\n",
      "None\n",
      "None\n",
      "None\n",
      "None\n",
      "None\n",
      "None\n",
      "None\n",
      "None\n",
      "None\n",
      "None\n",
      "None\n",
      "None\n"
     ]
    }
   ],
   "source": [
    "#Let's try to access specific, multiple cells and modify them\n",
    "for row in range(1,11):\n",
    "    for col in range(1,5): #conversion from number to letter of the column\n",
    "        char = get_column_letter(col) #string of one character\n",
    "        print(ws[char + str(row)].value) #.value to see the value of each cell of the 2D interval\n",
    "#None --> empty cells"
   ]
  },
  {
   "attachments": {},
   "cell_type": "markdown",
   "metadata": {},
   "source": [
    "Modify the cells now "
   ]
  },
  {
   "cell_type": "code",
   "execution_count": 117,
   "metadata": {},
   "outputs": [],
   "source": [
    "#Let's try to access specific, multiple cells and modify them\n",
    "for row in range(1,11):\n",
    "    for col in range(1,5): \n",
    "        char = get_column_letter(col) \n",
    "        ws[char + str(row)] = char + str(row) #the name of the cell is also its content\n",
    "#None --> empty cells"
   ]
  },
  {
   "cell_type": "code",
   "execution_count": 118,
   "metadata": {},
   "outputs": [],
   "source": [
    "#Save the changes you did\n",
    "wb.save('Tim.xlsx')"
   ]
  },
  {
   "cell_type": "code",
   "execution_count": 119,
   "metadata": {},
   "outputs": [],
   "source": [
    "#Merge a given range of cells\n",
    "ws.merge_cells(\"A1:D1\")"
   ]
  },
  {
   "cell_type": "code",
   "execution_count": 120,
   "metadata": {},
   "outputs": [],
   "source": [
    "wb.save('Tim.xlsx')"
   ]
  },
  {
   "cell_type": "code",
   "execution_count": 121,
   "metadata": {},
   "outputs": [],
   "source": [
    "#The unmerge is quite easy\n",
    "ws.unmerge_cells(\"A1:D1\") #but we lost the values in the cells after the initial one"
   ]
  },
  {
   "cell_type": "code",
   "execution_count": 122,
   "metadata": {},
   "outputs": [],
   "source": [
    "wb.save('Tim.xlsx')"
   ]
  },
  {
   "cell_type": "code",
   "execution_count": 123,
   "metadata": {},
   "outputs": [],
   "source": [
    "ws.merge_cells(\"A1:D2\")\n",
    "wb.save('Tim.xlsx')"
   ]
  },
  {
   "attachments": {},
   "cell_type": "markdown",
   "metadata": {},
   "source": [
    "INSERTING AND DELETING ROWS & COLUMNS"
   ]
  },
  {
   "cell_type": "code",
   "execution_count": 124,
   "metadata": {},
   "outputs": [],
   "source": [
    "ws.insert_rows(7) #insert a new row at row 7\n",
    "ws.insert_rows(7)\n",
    "ws.insert_rows(7)"
   ]
  },
  {
   "cell_type": "code",
   "execution_count": 125,
   "metadata": {},
   "outputs": [],
   "source": [
    "wb.save('Tim.xlsx')"
   ]
  },
  {
   "cell_type": "code",
   "execution_count": 126,
   "metadata": {},
   "outputs": [],
   "source": [
    "#Delete them in a similar way\n",
    "ws.delete_rows(7)\n",
    "ws.delete_rows(7)\n",
    "ws.delete_rows(7)"
   ]
  },
  {
   "cell_type": "code",
   "execution_count": 127,
   "metadata": {},
   "outputs": [],
   "source": [
    "wb.save('Tim.xlsx')"
   ]
  },
  {
   "cell_type": "code",
   "execution_count": 128,
   "metadata": {},
   "outputs": [],
   "source": [
    "#NOw the columns\n",
    "ws.insert_cols(2) #B--->2"
   ]
  },
  {
   "cell_type": "code",
   "execution_count": 129,
   "metadata": {},
   "outputs": [],
   "source": [
    "wb.save('Tim.xlsx')\n",
    "#analogously for deleting columns ws.delete_cols()"
   ]
  },
  {
   "cell_type": "code",
   "execution_count": 130,
   "metadata": {},
   "outputs": [],
   "source": [
    "ws.delete_cols(2) \n",
    "wb.save('Tim.xlsx')"
   ]
  },
  {
   "attachments": {},
   "cell_type": "markdown",
   "metadata": {},
   "source": [
    "COPING AND MOVING CELLS\n",
    "shifting "
   ]
  },
  {
   "cell_type": "code",
   "execution_count": 131,
   "metadata": {},
   "outputs": [],
   "source": [
    "ws.move_range(\"C1:D10\", rows=2, cols=2) # -1 up to one row, >0 down to\n",
    "#-1 to  the left column, >0 to the right"
   ]
  },
  {
   "cell_type": "code",
   "execution_count": 132,
   "metadata": {},
   "outputs": [],
   "source": [
    "wb.save('Tim.xlsx')"
   ]
  }
 ],
 "metadata": {
  "kernelspec": {
   "display_name": "Python 3",
   "language": "python",
   "name": "python3"
  },
  "language_info": {
   "codemirror_mode": {
    "name": "ipython",
    "version": 3
   },
   "file_extension": ".py",
   "mimetype": "text/x-python",
   "name": "python",
   "nbconvert_exporter": "python",
   "pygments_lexer": "ipython3",
   "version": "3.10.4"
  },
  "orig_nbformat": 4,
  "vscode": {
   "interpreter": {
    "hash": "26de051ba29f2982a8de78e945f0abaf191376122a1563185a90213a26c5da77"
   }
  }
 },
 "nbformat": 4,
 "nbformat_minor": 2
}
