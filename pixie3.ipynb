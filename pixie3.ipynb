{
 "cells": [
  {
   "cell_type": "code",
   "execution_count": 19,
   "metadata": {},
   "outputs": [],
   "source": [
    "import openpyxl\n",
    "from openpyxl import Workbook, load_workbook \n",
    "from openpyxl.utils import get_column_letter"
   ]
  },
  {
   "cell_type": "code",
   "execution_count": 20,
   "metadata": {},
   "outputs": [],
   "source": [
    "data = {\n",
    "    \"Joe\":{\"math\": 65,\n",
    "    \"science\":78,\n",
    "    \"english\":98,\n",
    "    \"gym\":89\n",
    "    },\n",
    "    \"Bill\":{\"math\": 55,\n",
    "    \"science\":72,\n",
    "    \"english\":87,\n",
    "    \"gym\":95\n",
    "    },\n",
    "    \"Tim\":{\"math\": 100,\n",
    "    \"science\":45,\n",
    "    \"english\":75,\n",
    "    \"gym\":92\n",
    "    },\n",
    "    \"Sally\":{\"math\": 30,\n",
    "    \"science\":25,\n",
    "    \"english\":45,\n",
    "    \"gym\":100\n",
    "    },\n",
    "    \"Jane\":{\"math\": 100,\n",
    "    \"science\":100,\n",
    "    \"english\":100,\n",
    "    \"gym\":60\n",
    "    },\n",
    "}"
   ]
  },
  {
   "cell_type": "code",
   "execution_count": 21,
   "metadata": {},
   "outputs": [],
   "source": [
    "subjects = list(data['Joe'].keys())"
   ]
  },
  {
   "cell_type": "code",
   "execution_count": 31,
   "metadata": {},
   "outputs": [],
   "source": [
    "from openpyxl.styles import Font"
   ]
  },
  {
   "cell_type": "code",
   "execution_count": 23,
   "metadata": {},
   "outputs": [],
   "source": [
    "#Let's put these data into a new workbook\n",
    "wb = Workbook()\n",
    "ws = wb.active\n",
    "ws.title = \"Grades\"\n",
    "headings = ['Name']+ subjects #combine these 2 lists"
   ]
  },
  {
   "cell_type": "code",
   "execution_count": 24,
   "metadata": {},
   "outputs": [],
   "source": [
    "ws.append(headings)"
   ]
  },
  {
   "cell_type": "code",
   "execution_count": 25,
   "metadata": {},
   "outputs": [],
   "source": [
    "for person in data:\n",
    "    grades = data[person].values()\n",
    "    ws.append([person]+list(grades))\n"
   ]
  },
  {
   "cell_type": "code",
   "execution_count": 26,
   "metadata": {},
   "outputs": [],
   "source": [
    "wb.save(\"NewGrades.xlsx\")"
   ]
  },
  {
   "cell_type": "code",
   "execution_count": 29,
   "metadata": {},
   "outputs": [],
   "source": [
    "#Let's compute the average grade of each subject\n",
    "for col in range(2, len(data['Joe'])+2):\n",
    "    char = get_column_letter(col)\n",
    "    ws[char +\"7\"] = f\"=SUM({char + '2'}:{char + '6'})/{len(data)}\""
   ]
  },
  {
   "cell_type": "code",
   "execution_count": 30,
   "metadata": {},
   "outputs": [],
   "source": [
    "wb.save(\"NewGrades.xlsx\")"
   ]
  },
  {
   "attachments": {},
   "cell_type": "markdown",
   "metadata": {},
   "source": [
    "Cell styling"
   ]
  },
  {
   "cell_type": "code",
   "execution_count": 33,
   "metadata": {},
   "outputs": [],
   "source": [
    "for col in range(1,6):\n",
    "    ws[get_column_letter(col)+'1'].font = Font(bold=True, color=\"0099CCFF\")"
   ]
  },
  {
   "cell_type": "code",
   "execution_count": 34,
   "metadata": {},
   "outputs": [],
   "source": [
    "wb.save(\"NewGrades.xlsx\")"
   ]
  }
 ],
 "metadata": {
  "kernelspec": {
   "display_name": "Python 3",
   "language": "python",
   "name": "python3"
  },
  "language_info": {
   "codemirror_mode": {
    "name": "ipython",
    "version": 3
   },
   "file_extension": ".py",
   "mimetype": "text/x-python",
   "name": "python",
   "nbconvert_exporter": "python",
   "pygments_lexer": "ipython3",
   "version": "3.10.4"
  },
  "orig_nbformat": 4,
  "vscode": {
   "interpreter": {
    "hash": "26de051ba29f2982a8de78e945f0abaf191376122a1563185a90213a26c5da77"
   }
  }
 },
 "nbformat": 4,
 "nbformat_minor": 2
}
